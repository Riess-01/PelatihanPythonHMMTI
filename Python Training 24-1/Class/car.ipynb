{
 "cells": [
  {
   "cell_type": "code",
   "execution_count": 1,
   "id": "c2e28b1e-7261-44ab-ab77-ba3f35d63f1b",
   "metadata": {},
   "outputs": [],
   "source": [
    "class Car :   #Class Name\n",
    "    def __init__(self, year, merk,tires=4) : # 1. Constructor of Car 2. Variable Tires have default value = 4\n",
    "        self.year = year                   # self is representation of class Car \n",
    "        self.merk = merk\n",
    "        self.tires = tires\n",
    "        \n",
    "\n",
    "    def startEngine(self, str = 'Vvvrroooommmm!!!'): # A Method sound default=Vvvrroooommmm!!!\n",
    "        print(str)\n",
    "\n",
    "    def showYear(self):\n",
    "        return self.year\n",
    "        \n",
    "    def showTires(self2):\n",
    "        return self2.tires"
   ]
  },
  {
   "cell_type": "code",
   "execution_count": 7,
   "id": "4d309aa6-d9b1-4b0b-84ab-c55dac9ff013",
   "metadata": {},
   "outputs": [],
   "source": [
    "Ford = Car (2019, 'Ford')\n",
    "Toyota = Car (2020, 'Toyota',6)\n"
   ]
  },
  {
   "cell_type": "code",
   "execution_count": 3,
   "id": "cbf93830-2d70-4186-991e-07b9a92f2818",
   "metadata": {},
   "outputs": [
    {
     "name": "stdout",
     "output_type": "stream",
     "text": [
      "Vvvrroooommmm!!!\n"
     ]
    }
   ],
   "source": [
    "Ford.startEngine()"
   ]
  },
  {
   "cell_type": "code",
   "execution_count": 4,
   "id": "ce07922a-3cb5-4fc9-8530-8d98186a4a59",
   "metadata": {},
   "outputs": [
    {
     "name": "stdout",
     "output_type": "stream",
     "text": [
      "sputter sputter misfire\n"
     ]
    }
   ],
   "source": [
    "Ford.startEngine('sputter sputter misfire') #Change a argument value of a function"
   ]
  },
  {
   "cell_type": "code",
   "execution_count": 8,
   "id": "6700cd92-b5c7-4505-972a-36093160a37b",
   "metadata": {},
   "outputs": [
    {
     "data": {
      "text/plain": [
       "2020"
      ]
     },
     "execution_count": 8,
     "metadata": {},
     "output_type": "execute_result"
    }
   ],
   "source": [
    "Toyota.showYear()  #Why doesn't the year appear?"
   ]
  },
  {
   "cell_type": "code",
   "execution_count": 9,
   "id": "bfda9bc9-e5f0-45f5-b037-4f8e67c137e1",
   "metadata": {},
   "outputs": [
    {
     "data": {
      "text/plain": [
       "4"
      ]
     },
     "execution_count": 9,
     "metadata": {},
     "output_type": "execute_result"
    }
   ],
   "source": [
    "Ford.showTires()  # and Why tires can be displayed? "
   ]
  }
 ],
 "metadata": {
  "kernelspec": {
   "display_name": "Python 3 (ipykernel)",
   "language": "python",
   "name": "python3"
  },
  "language_info": {
   "codemirror_mode": {
    "name": "ipython",
    "version": 3
   },
   "file_extension": ".py",
   "mimetype": "text/x-python",
   "name": "python",
   "nbconvert_exporter": "python",
   "pygments_lexer": "ipython3",
   "version": "3.11.7"
  }
 },
 "nbformat": 4,
 "nbformat_minor": 5
}
