{
 "cells": [
  {
   "cell_type": "code",
   "execution_count": 17,
   "id": "58cff17a-f8d4-45ac-b66e-d965bb56d54d",
   "metadata": {},
   "outputs": [],
   "source": [
    "from OperatorMatematika import OperatorMatematika"
   ]
  },
  {
   "cell_type": "code",
   "execution_count": 21,
   "id": "ba76b336-a41b-42a0-8d07-0173831932ab",
   "metadata": {},
   "outputs": [
    {
     "data": {
      "text/plain": [
       "10"
      ]
     },
     "execution_count": 21,
     "metadata": {},
     "output_type": "execute_result"
    }
   ],
   "source": [
    "OperatorMatematika.penjumlahan(8,2)"
   ]
  },
  {
   "cell_type": "code",
   "execution_count": 20,
   "id": "1c0b516b-c349-478c-b37a-b535720a9418",
   "metadata": {},
   "outputs": [
    {
     "data": {
      "text/plain": [
       "2"
      ]
     },
     "execution_count": 20,
     "metadata": {},
     "output_type": "execute_result"
    }
   ],
   "source": [
    "OperatorMatematika.pengurangan(4,2)"
   ]
  },
  {
   "cell_type": "code",
   "execution_count": 19,
   "id": "1d575079-91f0-4ea0-8a82-ba1b8fe06225",
   "metadata": {},
   "outputs": [
    {
     "data": {
      "text/plain": [
       "8"
      ]
     },
     "execution_count": 19,
     "metadata": {},
     "output_type": "execute_result"
    }
   ],
   "source": [
    "OperatorMatematika.perkalian(4,2)"
   ]
  },
  {
   "cell_type": "code",
   "execution_count": 18,
   "id": "119c2fb7-de41-4509-bfa8-e8634effc718",
   "metadata": {},
   "outputs": [
    {
     "data": {
      "text/plain": [
       "2.0"
      ]
     },
     "execution_count": 18,
     "metadata": {},
     "output_type": "execute_result"
    }
   ],
   "source": [
    "OperatorMatematika.pembagian(4,2)"
   ]
  },
  {
   "cell_type": "code",
   "execution_count": null,
   "id": "b7b2a424-fb0c-412f-b228-853f85a64b04",
   "metadata": {},
   "outputs": [],
   "source": []
  }
 ],
 "metadata": {
  "kernelspec": {
   "display_name": "Python 3 (ipykernel)",
   "language": "python",
   "name": "python3"
  },
  "language_info": {
   "codemirror_mode": {
    "name": "ipython",
    "version": 3
   },
   "file_extension": ".py",
   "mimetype": "text/x-python",
   "name": "python",
   "nbconvert_exporter": "python",
   "pygments_lexer": "ipython3",
   "version": "3.11.7"
  }
 },
 "nbformat": 4,
 "nbformat_minor": 5
}
